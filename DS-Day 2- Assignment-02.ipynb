{
 "cells": [
  {
   "cell_type": "markdown",
   "metadata": {},
   "source": [
    "# Questions 1:\n",
    "Create an empty list. Accept 10 numbers from the user and append to it the list if it is an even number."
   ]
  },
  {
   "cell_type": "code",
   "execution_count": 1,
   "metadata": {},
   "outputs": [
    {
     "name": "stdout",
     "output_type": "stream",
     "text": [
      "Enter Number 6\n",
      "[6]\n",
      "Enter Number 7\n",
      "Not an even number\n",
      "Enter Number 88\n",
      "[6, 88]\n",
      "Enter Number 36\n",
      "[6, 88, 36]\n",
      "Enter Number 98\n",
      "[6, 88, 36, 98]\n",
      "Enter Number 33\n",
      "Not an even number\n",
      "Enter Number 23\n",
      "Not an even number\n",
      "Enter Number 17\n",
      "Not an even number\n",
      "Enter Number 20\n",
      "[6, 88, 36, 98, 20]\n",
      "Enter Number 90\n",
      "[6, 88, 36, 98, 20, 90]\n"
     ]
    }
   ],
   "source": [
    "n=10\n",
    "emptylist = []\n",
    "for i in range(n):\n",
    "    inp = int(input(\"Enter Number \"))\n",
    "    if inp %2 == 0:\n",
    "        emplst.append(inp)\n",
    "        print(emptylist)\n",
    "    else:\n",
    "        print('Not an even number')"
   ]
  },
  {
   "cell_type": "markdown",
   "metadata": {},
   "source": []
  },
  {
   "cell_type": "markdown",
   "metadata": {},
   "source": [
    "# Questions 2:\n",
    "Create a notebook on LIST COMPREHENSION. This exercise is to put you in a Self learning mode"
   ]
  },
  {
   "cell_type": "markdown",
   "metadata": {},
   "source": [
    "List comprehensions provide a concise way to create lists. It consists of brackets containing an expression followed by a for clause, then zero or more for or if clauses. The expressions can be anything, meaning you can\n",
    " put in all kinds of objects in lists. The result will be a new list resulting from evaluating the expression in the\n",
    " context of the for and if clauses which follow it. The list comprehension always returns a result list."
   ]
  },
  {
   "cell_type": "markdown",
   "metadata": {},
   "source": [
    "E.g. Multiply every part of a list by three and assign it to a new list."
   ]
  },
  {
   "cell_type": "code",
   "execution_count": 3,
   "metadata": {},
   "outputs": [
    {
     "name": "stdout",
     "output_type": "stream",
     "text": [
      "[9, 12, 15]\n"
     ]
    }
   ],
   "source": [
    "list1 = [3,4,5]\n",
    "multiplied = [item*3 for item in list1]\n",
    "print (multiplied)"
   ]
  },
  {
   "cell_type": "code",
   "execution_count": null,
   "metadata": {},
   "outputs": [],
   "source": []
  },
  {
   "cell_type": "markdown",
   "metadata": {},
   "source": [
    "# Questions 3:\n",
    "You have seen in the videos how powerful dictionary data structure is.\n",
    "In this assignment, given a number n, you have to write a program that generates a dictionary d which\n",
    "contains (i, i*i), where i is from 1 to n (both included).\n",
    "Then you have to just print this dictionary d.\n",
    "Example:\n",
    "Input: 4\n",
    "will give output as\n",
    "{1: 1, 2: 4, 3: 9, 4: 16}\n",
    "Input Format:\n",
    "Take the number n in a single line.\n",
    "Output Format:\n",
    "Print the dictionary d in a single line."
   ]
  },
  {
   "cell_type": "code",
   "execution_count": 5,
   "metadata": {},
   "outputs": [
    {
     "name": "stdout",
     "output_type": "stream",
     "text": [
      "Enter number: 4\n",
      "{1: 1, 2: 4, 3: 9, 4: 16} "
     ]
    }
   ],
   "source": [
    "inpt=int(input('Enter number: '))\n",
    "firstnum=[i for i in range(1,1+inpt)]\n",
    "secondnum=[i**2 for i in range(1,1+inpt)]\n",
    "op=dict(zip(firstnum,secondnum))\n",
    "print(op,end=\" \")"
   ]
  },
  {
   "cell_type": "code",
   "execution_count": null,
   "metadata": {},
   "outputs": [],
   "source": []
  },
  {
   "cell_type": "markdown",
   "metadata": {},
   "source": [
    "# Questions 4:\n",
    "There is a robot which wants to go the charging point to charge itself.\n",
    "The robot moves in a 2-D plane from the original point (0,0). The robot can\n",
    "move toward UP, DOWN, LEFT and RIGHT with given steps.\n",
    "The trace of robot movement is shown as the following:\n",
    "UP 5\n",
    "DOWN 3\n",
    "LEFT 3\n",
    "RIGHT 2\n",
    "Then, the output of the program should be:\n",
    "2\n",
    "The numbers after the direction are steps.\n",
    "Write a program to compute the distance between the current position after\n",
    "a sequence of movement and original point. If the distance is a float, then\n",
    "just print the nearest integer (use round() function for that and then convert\n",
    "it into an integer).\n",
    "Input Format:\n",
    "The first line of the input contains a number n which implies the number of\n",
    "directions to be given.\n",
    "The next n lines contain the direction and the step separated by a space.\n",
    "Output Format:\n",
    "Print the distance from the original position to the current position.\n",
    "Example:\n",
    "Input:\n",
    "4\n",
    "UP 5\n",
    "DOWN 3\n",
    "LEFT 3\n",
    "RIGHT 2\n",
    "Output:\n",
    "2"
   ]
  },
  {
   "cell_type": "code",
   "execution_count": null,
   "metadata": {},
   "outputs": [],
   "source": []
  },
  {
   "cell_type": "code",
   "execution_count": 1,
   "metadata": {},
   "outputs": [
    {
     "name": "stdout",
     "output_type": "stream",
     "text": [
      "2.23606797749979 from [0,0] to [-1, 2]\n"
     ]
    }
   ],
   "source": [
    "import math\n",
    "\n",
    "pos=[0,0]\n",
    "moves={\"UP\":[0,1],\n",
    "       \"DOWN\":[0,-1],\n",
    "       \"LEFT\":[-1,0],\n",
    "       \"RIGHT\":[1,0]}\n",
    "\n",
    "\n",
    "data=[\"UP 5\",\n",
    "    \"DOWN 3\",\n",
    "    \"LEFT 3\",\n",
    "    \"RIGHT 2\"]\n",
    "\n",
    "\n",
    "for inp in data:\n",
    "    parts=inp.split()    \n",
    "    mv=parts[0]\n",
    "    val=parts[1]\n",
    "    if mv in moves and val.isnumeric():\n",
    "        pos[0] += moves[mv][0]*int(val)\n",
    "        pos[1] += moves[mv][1]*int(val)\n",
    "\n",
    "distance=math.sqrt(pos[0]**2 + pos[1]**2)\n",
    "print(distance, \"from [0,0] to\",pos)"
   ]
  },
  {
   "cell_type": "code",
   "execution_count": null,
   "metadata": {},
   "outputs": [],
   "source": []
  },
  {
   "cell_type": "code",
   "execution_count": null,
   "metadata": {},
   "outputs": [],
   "source": []
  }
 ],
 "metadata": {
  "kernelspec": {
   "display_name": "Python 3",
   "language": "python",
   "name": "python3"
  },
  "language_info": {
   "codemirror_mode": {
    "name": "ipython",
    "version": 3
   },
   "file_extension": ".py",
   "mimetype": "text/x-python",
   "name": "python",
   "nbconvert_exporter": "python",
   "pygments_lexer": "ipython3",
   "version": "3.7.4"
  }
 },
 "nbformat": 4,
 "nbformat_minor": 2
}
